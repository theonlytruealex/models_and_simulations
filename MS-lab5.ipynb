{
 "cells": [
  {
   "cell_type": "markdown",
   "metadata": {},
   "source": [
    "# Modeling and Simulation 4 - Regression Analysis and Markov Chains"
   ]
  },
  {
   "attachments": {
    "6daf1409-4639-489f-9599-6d4fdd0f2d62.png": {
     "image/png": "[encoded data removed]"
    }
   },
   "cell_type": "markdown",
   "metadata": {},
   "source": [
    "![Figure_1.png](attachment:6daf1409-4639-489f-9599-6d4fdd0f2d62.png)"
   ]
  },
  {
   "cell_type": "markdown",
   "metadata": {},
   "source": [
    "To find the best-fitting line, we need to minimize the distances between the data points and the regression line. You can see these errors above, plotted in black. Do you remember the least squares method? We need to determine the parameters $b_0, b_1$ for the line $y = b_0 + b_1 \\cdot x$ such that: $$f(b_0, b_1) = \\sum_i \\, [y_i - (b_0 + b_1 \\cdot x_i)]^2 \\, = Min$$ Squaring the difference is required to prevent errors from canceling one another and also to give more weight to bigger errors. A measure of how strongly the data points cluster along the regression line is the correlation coefficient, which can be calculated using the following formula: $$\\rho_{X, Y} = \\frac{Cov(X, Y)}{\\sqrt{D^2(X)} \\cdot \\sqrt{D^2(Y)}}$$ It only takes values in the range $[-1;\\, 1]$:\n",
    "- a value close to 0 means no correlation\n",
    "- a value close to 1 means that there is a strong positive correlation (as X increases, Y increases)\n",
    "- a value close to -1 means that there is a strong negative correlation (as X increases, Y decreases)\n",
    "\n",
    "Keep in mind that the correlation coefficient only gives us information about how strong the variables cluster along a straight line, but it does not say anything about the slope of the regression line. Now, let's compute the regression line and the correlation coefficient for the previous example."
   ]
  },
  {
   "cell_type": "code",
   "execution_count": 10,
   "id": "06d06b85-17e2-43f9-908d-5586a2ca80b0",
   "metadata": {
    "tags": []
   },
   "cell_type": "markdown",
   "metadata": {},
   "source": [
    "import random\n",
    "\n",
    "class Perceptron:\n",
    "    def __init__(self, num_inputs):\n",
    "        self.weights = [random.uniform(-1, 1) for _ in range(num_inputs)]\n",
    "        self.bias = random.uniform(-1, 1)\n",
    "\n",
    "    def activate(self, x):\n",
    "        if x > 0:\n",
    "            return 1\n",
    "        return 0\n",
    "\n",
    "    def predict(self, inputs):\n",
    "        # TODO: Calculate the weighted sum of inputs and add the bias\n",
    "        weighted_sum = 0\n",
    "        for i in range(len(self.weights)):\n",
    "            weighted_sum += self.weights[i] * inputs[i]\n",
    "        weighted_sum += self.bias\n",
    "        return self.activate(weighted_sum)\n",
    "\n",
    "    # Inputs will be an array containing the 4 values of the grid, target will be the desired prediction value\n",
    "    def train(self, inputs, target, lr=0.1):\n",
    "        # TODO: Compute the error of the perceptron's prediction\n",
    "        # TODO: Update all the weights according to the formula w_k+1 = w_k + lr * error * inputs\n",
    "        output = self.predict(inputs)\n",
    "        error = target - output\n",
    "        self.weights = [self.weights[i] + lr * error * inputs[i] for i in range(len(inputs))]\n",
    "        \n",
    "        # TODO: Update the bias according to the formula bias_k+1 = bias_k + lr * error\n",
    "        self.bias += lr * error\n",
    "        return"
   ]
  },
  {
   "cell_type": "code",
   "execution_count": 11,
   "id": "12face08-3989-43fd-af71-754adcb4c442",
   "metadata": {},
   "outputs": [],
   "source": [
    "# Define the variables\n",
    "\n",
    "# Epochs are \"iterations\" in machine-learning speech\n",
    "num_epochs = 1000\n",
    "# We'll use 3 perceptrons with 4 inputs each.\n",
    "perceptrons = [Perceptron(4) for _ in range(3)]\n",
    "for _ in range(num_epochs):\n",
    "    for i in range(3):\n",
    "        for j in range(4):\n",
    "            if i == j:\n",
    "                perceptrons[i].train(data[j][0], 1)\n",
    "            else:\n",
    "                perceptrons[i].train(data[j][0], 0)\n",
    "\n",
    "\n",
    "# TODO: Train the perceptrons for `num_epochs` iterations\n",
    "# hint: You should train each perceptron on the whole data set in each iteration.\n",
    "\n",
    "def predict_grid(grid):\n",
    "    max = -1\n",
    "    out = 0\n",
    "    for i in range(3):\n",
    "        if perceptrons[i].predict(grid) >= max:\n",
    "            max = perceptrons[i].predict(grid)\n",
    "            out = i\n",
    "    return out"
   ]
  },
  {
   "cell_type": "code",
   "execution_count": 12,
   "id": "becab3a0-56a6-42ca-9de0-82809b3f33c8",
   "metadata": {},
   "outputs": [
    {
     "name": "stdout",
     "output_type": "stream",
     "text": [
      "Grid: [0, 0, 0, 0], Prediction: 0\n",
      "Grid: [1, 1, 1, 1], Prediction: 1\n",
      "Grid: [0, 1, 0, 1], Prediction: 2\n",
      "Grid: [1, 0, 0, 0], Prediction: 0\n",
      "Grid: [1, 1, 0, 0], Prediction: 1\n",
      "Grid: [1, 0, 1, 0], Prediction: 2\n",
      "Grid: [1, 0, 0, 1], Prediction: 0\n",
      "Grid: [0, 1, 0, 0], Prediction: 0\n",
      "Grid: [1, 1, 1, 0], Prediction: 1\n"
     ]
    }
   ],
   "source": [
    "# Test the model\n",
    "test_data = [\n",
    "    [0, 0, 0, 0],\n",
    "    [1, 1, 1, 1],\n",
    "    [0, 1, 0, 1],\n",
    "    [1, 0, 0, 0],\n",
    "    [1, 1, 0, 0],\n",
    "    [1, 0, 1, 0],\n",
    "    [1, 0, 0, 1],\n",
    "    [0, 1, 0, 0],\n",
    "    [1, 1, 1, 0],\n",
    "]\n",
    "\n",
    "X = np.column_stack((engineSize, horsePower, mpgCity))\n",
    "\n",
    "# Fit the regression model\n",
    "\n",
    "model = LinearRegression()\n",
    "model.fit(X, price)\n",
    "\n",
    "# Print regression results\n",
    "print('Price = {:.3f} + {:.3f} * EngineSize + {:.3f} * HorsePower + {:.3f} * MPG_City'\n",
    "        .format(model.intercept_, *model.coef_))\n",
    "\n",
    "print('R-squared: {:.3f}'.format(model.score(X, price)))"
   ]
  },
  {
   "cell_type": "markdown",
   "metadata": {},
   "source": [
    "The quantity **R-squared** (called the coefficient of determination) represents the variation in price explained by our model. It means that 84.9% of the variation in the price of the cars is explained by the above linear relation. You can play around and change the target variable and the predictors to see if you can obtain a bigger value for the **R-squared**. The coefficient of determintion takes values in the range $[0; 1]$, so the bigger the value, the better the model predicts the price. \n",
    "\n",
    "An important thing to know is that the predictors should not be correlated with each other, otherwise the model becomes redundant. For example, if we want to predict the price of a house and we have the size of the house in squared meters and squared centimeters as predictors, the model will not have a good prediction capability because the two independent variables provide redundant information. Let's study our case and see if the predictors are correlated."
   ]
  },
  {
   "cell_type": "code",
   "execution_count": 13,
   "id": "f47588b5-8937-4464-a40b-e471fdb46605",
   "metadata": {
    "tags": []
   },
   "cell_type": "markdown",
   "metadata": {},
   "source": [
    "![markov chain.jpg](attachment:f2d8a8dc-5ab8-40d0-a68b-5f1a7a4fa263.jpg)"
   ]
  },
  {
   "cell_type": "markdown",
   "metadata": {},
   "source": [
    "A bull market is the condition of a financial market in which prices are rising or are expected to rise by a significant amount. A bear market is when a market experiences prolonged price declines. The graph above can be interpreted as follows: if its a bull market today, there is a 90% chance that it will be bull market tomorrow, 7.5% chance that it will be bear market and 2.5% chance that the market will be stagnant. We can visualize this better looking at the table below:\n",
    "\n",
    "def relu(x):\n",
    "    return np.maximum(0, x)\n",
    "\n",
    "def relu_derivative(x):\n",
    "    return (x > 0).astype(float)\n",
    "\n",
    "class NeuralNetwork:\n",
    "    def __init__(self, input_size, hidden_size, output_size):\n",
    "        self.W1 = np.random.uniform(-1, 1, (input_size, hidden_size))\n",
    "        self.b1 = np.random.uniform(-1, 1, (1, hidden_size))\n",
    "        self.W2 = np.random.uniform(-1, 1, (hidden_size, output_size))\n",
    "        self.b2 = np.random.uniform(-1, 1, (1, output_size))\n",
    "\n",
    "    def forward(self, x):\n",
    "        self.z1 = x @ self.W1 + self.b1\n",
    "        self.a1 = relu(self.z1)\n",
    "        self.z2 = self.a1 @ self.W2 + self.b2\n",
    "        exp_z = np.exp(self.z2 - np.max(self.z2, axis=1, keepdims=True))  # Prevent overflow\n",
    "        self.a2 = exp_z / np.sum(exp_z, axis=1, keepdims=True)\n",
    "        return self.a2\n",
    "\n",
    "    def train(self, x, y, learning_rate=0.1):\n",
    "        output = self.forward(x)\n",
    "\n",
    "        # Compute output layer error\n",
    "        delta_output = output - y\n",
    "\n",
    "        # Compute gradients for the output layer\n",
    "        dW2 = self.a1.T @ delta_output\n",
    "        db2 = np.sum(delta_output, axis=0, keepdims=True)\n",
    "\n",
    "        # Compute hidden layer error\n",
    "        delta_hidden = (delta_output @ self.W2.T) * relu_derivative(self.z1)\n",
    "\n",
    "        # Compute gradients for the hidden layer\n",
    "        dW1 = np.array(x).T @ delta_hidden\n",
    "        db1 = np.sum(delta_hidden, axis=0, keepdims=True)\n",
    "\n",
    "        # Update weights and biases\n",
    "        self.W1 -= learning_rate * dW1\n",
    "        self.b1 -= learning_rate * db1\n",
    "        self.W2 -= learning_rate * dW2\n",
    "        self.b2 -= learning_rate * db2\n"
   ]
  },
  {
   "cell_type": "code",
   "execution_count": 14,
   "id": "87291616-1b2b-41cc-90c7-ef80054f8510",
   "metadata": {},
   "outputs": [],
   "source": [
    "import numpy as np\n",
    "\n",
    "# One-hot encoding function\n",
    "def one_hot_encode(label, num_classes):\n",
    "    vec = np.zeros(num_classes)\n",
    "    vec[label] = 1\n",
    "    return vec\n",
    "\n",
    "# Data Preparation\n",
    "data = [\n",
    "    (np.array([0, 0, 0, 0]), 0),\n",
    "    (np.array([1, 1, 1, 1]), 1),\n",
    "    (np.array([2, 2, 2, 2]), 2),\n",
    "    (np.array([0, 1, 0, 1]), 0),\n",
    "    (np.array([1, 2, 1, 2]), 1),\n",
    "    (np.array([2, 0, 2, 0]), 2),\n",
    "]\n",
    "\n",
    "# Network Parameters\n",
    "input_size = 4\n",
    "hidden_size = 5\n",
    "output_size = 3\n",
    "num_epochs = 5000\n",
    "learning_rate = 0.01\n",
    "\n",
    "# Initialize Neural Network\n",
    "nn = NeuralNetwork(input_size, hidden_size, output_size)\n",
    "\n",
    "# Training Loop\n",
    "for _ in range(num_epochs):\n",
    "    for x, label in data:\n",
    "        x = x.reshape(1, -1)  # Reshape input to (1, input_size)\n",
    "        y = one_hot_encode(label, output_size).reshape(1, -1)  # One-hot encode output\n",
    "        nn.train(x, y, learning_rate)\n",
    "\n",
    "# Prediction Function\n",
    "def predict_grid(grid):\n",
    "    grid = np.array(grid).reshape(1, -1)  # Ensure input is in correct shape\n",
    "    predictions = nn.forward(grid)\n",
    "    return np.argmax(predictions, axis=1)[0]  # Return index of max confidence\n"
   ]
  },
  {
   "cell_type": "code",
   "execution_count": 16,
   "id": "1e5f4261-bbf1-4462-9348-95aa06ee9141",
   "metadata": {},
   "outputs": [
    {
     "name": "stdout",
     "output_type": "stream",
     "text": [
      "Grid: [0, 0, 0, 0], Prediction: 0\n",
      "Grid: [1, 1, 1, 1], Prediction: 1\n",
      "Grid: [2, 2, 2, 2], Prediction: 2\n",
      "Grid: [0, 1, 0, 1], Prediction: 0\n",
      "Grid: [1, 0, 0, 0], Prediction: 0\n",
      "Grid: [2, 0, 2, 0], Prediction: 2\n",
      "Grid: [2, 2, 2, 0], Prediction: 2\n"
     ]
    }
   ],
   "source": [
    "# Test the model\n",
    "test_data = [\n",
    "    [0, 0, 0, 0],\n",
    "    [1, 1, 1, 1],\n",
    "    [2, 2, 2, 2],\n",
    "    [0, 1, 0, 1],\n",
    "    [1, 0, 0, 0],\n",
    "    [2, 0, 2, 0],\n",
    "    [2, 2, 2, 0],\n",
    "]\n",
    "\n",
    "    nextState = ...\n",
    "    stateName = ...\n",
    "\n",
    "    return nextState, stateName\n",
    "\n",
    "\n",
    "def nStates(n):\n",
    "    # TODO Simulate the possible outcome for the next n days\n",
    "    # Return the state record\n",
    "    stateRecord = None\n",
    "\n",
    "    return stateRecord\n",
    "\n",
    "def findLimit():\n",
    "    # TODO Multiply the transition matrix with the probability vector until no change occurs anymore\n",
    "    # Return the limit\n",
    "    outcome = None\n",
    "\n",
    "    return outcome"
   ]
  },
  {
   "cell_type": "code",
   "execution_count": null,
   "metadata": {},
   "outputs": [],
   "source": [
    "# Compute the predictions for the next n days and the limit of the probability vector\n",
    "\n",
    "n = 10\n",
    "stateRecord = nStates(n)\n",
    "\n",
    "print(f'Today: {stateRecord[0]}')\n",
    "\n",
    "for idx, state in enumerate(stateRecord[1:]):\n",
    "    print(f'Day {idx + 1} prediction: {state}.')\n",
    "\n",
    "print(f'The limit for the probability vector is: {findLimit()}')"
   ]
  }
 ],
 "metadata": {
  "kernelspec": {
   "display_name": ".venv",
   "language": "python",
   "name": "python3"
  },
  "language_info": {
   "codemirror_mode": {
    "name": "ipython",
    "version": 3
   },
   "file_extension": ".py",
   "mimetype": "text/x-python",
   "name": "python",
   "nbconvert_exporter": "python",
   "pygments_lexer": "ipython3",
   "version": "3.12.3"
  }
 },
 "nbformat": 4,
 "nbformat_minor": 4
}
